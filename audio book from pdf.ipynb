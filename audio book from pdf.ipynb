{
 "cells": [
  {
   "cell_type": "code",
   "execution_count": 1,
   "id": "532d265c-9704-4b5e-a72c-a6a05352c6ea",
   "metadata": {},
   "outputs": [],
   "source": [
    "#pip install pyttsx3"
   ]
  },
  {
   "cell_type": "code",
   "execution_count": 2,
   "id": "2c7f3d4a-0ffb-45a2-9d3a-354b6d4dfcdf",
   "metadata": {},
   "outputs": [],
   "source": [
    "#pip install pyPDF2"
   ]
  },
  {
   "cell_type": "code",
   "execution_count": 4,
   "id": "e3f834bb-8cc2-4147-a19f-efaad342801c",
   "metadata": {},
   "outputs": [],
   "source": [
    "import pyttsx3\n",
    "from PyPDF2 import PdfReader\n",
    "from tkinter.filedialog import askopenfilename"
   ]
  },
  {
   "cell_type": "code",
   "execution_count": 6,
   "id": "c2a18647-c217-4675-b5dd-ef5fe493ad85",
   "metadata": {},
   "outputs": [],
   "source": [
    "#choose the pdf\n",
    "book = askopenfilename()"
   ]
  },
  {
   "cell_type": "code",
   "execution_count": 7,
   "id": "053feca8-177a-427c-a05a-3cee1dc60938",
   "metadata": {},
   "outputs": [],
   "source": [
    "#initializing pdf reader\n",
    "reader = PdfReader(book)\n",
    "pages = len(reader.pages)"
   ]
  },
  {
   "cell_type": "code",
   "execution_count": 8,
   "id": "2b8a0e40-80d9-41db-a843-a45d82fba92c",
   "metadata": {},
   "outputs": [],
   "source": [
    "#initializing test-to-speech engine\n",
    "player = pyttsx3.init()   "
   ]
  },
  {
   "cell_type": "code",
   "execution_count": 12,
   "id": "ed0c9253-4720-4e62-b912-aa4b6734bab9",
   "metadata": {},
   "outputs": [],
   "source": [
    "#using for loop through eaxh page\n",
    "for i in range (pages):\n",
    "    page = reader.pages[i]\n",
    "    text = page.extract_text()\n",
    "    player.say(text)\n",
    "\n",
    "player.runAndWait()\n"
   ]
  },
  {
   "cell_type": "code",
   "execution_count": null,
   "id": "0b60fb15-a362-401c-b3b8-6990ed0ed77e",
   "metadata": {},
   "outputs": [],
   "source": []
  }
 ],
 "metadata": {
  "kernelspec": {
   "display_name": "Python 3 (ipykernel)",
   "language": "python",
   "name": "python3"
  },
  "language_info": {
   "codemirror_mode": {
    "name": "ipython",
    "version": 3
   },
   "file_extension": ".py",
   "mimetype": "text/x-python",
   "name": "python",
   "nbconvert_exporter": "python",
   "pygments_lexer": "ipython3",
   "version": "3.11.7"
  }
 },
 "nbformat": 4,
 "nbformat_minor": 5
}
